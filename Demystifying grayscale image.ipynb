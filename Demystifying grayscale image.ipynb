{
 "cells": [
  {
   "cell_type": "code",
   "execution_count": null,
   "metadata": {},
   "outputs": [],
   "source": [
    "#This is how we can check the encoding scheme of a grayscale image\n",
    "\n",
    "#Converting an RGB image to BGR image using cv2.cvtColor() method\n",
    "import cv2\n",
    "import matplotlib.pyplot as plt\n",
    "\n",
    "colored_image = cv2.imread('flower.jpg')\n",
    "original_image =cv2.cvtColor(colored_image, cv2.COLOR_RGB2BGR)\n",
    "grayscale_image = cv2.cvtColor(original_image, cv2.COLOR_BGR2GRAY)\n",
    "\n",
    "# Convert the grayscale image to a histogram. to see the encoding scheme\n",
    "histogram = cv2.calcHist([grayscale_image], [0], None, [256], [0, 256])\n",
    "# Plot the histogram.\n",
    "plt.plot(histogram)\n",
    "plt.xlabel(\"Intensity Values from 0-255\")\n",
    "plt.ylabel(\"Frequency of Occurences\")\n",
    "plt.title(\"Histogram of Grayscale Image\")\n",
    "plt.show()"
    "# Check the encoding scheme"
    "if histogram[0] == 0 and histogram[255] == 0:"
        "print(\"The image is using the 0-255 encoding scheme (black is 0, white is 255)."\)"
    "elif histogram[0] == 0 and histogram[255] > 0:"
        "print(\"The image is using the 1-256 encoding scheme (black is 1, white is 256)."\)"
    "else:"
        "print(\"The encoding scheme cannot be determined from the histogram.\")"
   ]
  }
 ],
 "metadata": {
  "language_info": {
   "name": "python"
  }
 },
 "nbformat": 4,
 "nbformat_minor": 2
}
