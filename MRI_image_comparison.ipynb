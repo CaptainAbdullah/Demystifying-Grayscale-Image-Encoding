{
 "cells": [
  {
   "cell_type": "markdown",
   "metadata": {},
   "source": [
    "# About MRI Image\n",
    "\n",
    "<img src=\"https://github.com/CaptainAbdullah/Demystifying-Grayscale-Image-Encoding/blob/main/mri_original.jpg\" alt=\"MRI image\">\n",
    "\n",
    "This image is a T1-weighted MRI image, which means that it shows the different tissues in the brain based on their T1 relaxation times. T1 relaxation time is a measure of how quickly a tissue returns to its original state after being exposed to a magnetic field. White matter has a shorter T1 relaxation time than gray matter, so it appears brighter on T1-weighted MRI images. Gray matter has a shorter T1 relaxation time than cerebrospinal fluid (CSF), so it appears brighter than CSF on T1-weighted MRI images.\n",
    "\n",
    "This MRI image shows the normal anatomy of the brain. The gray matter is shown as a light gray layer on the surface of the brain. The white matter is shown as a darker gray band underneath the gray matter. The CSF is shown as a black fluid in the ventricles of the brain.\n",
    "\n",
    "MRI images are used to diagnose a variety of brain disorders, including tumors, strokes, and multiple sclerosis. MRI images can also be used to assess brain development in children and to monitor the effects of treatment for brain disorders."
   ]
  },
  {
   "cell_type": "code",
   "execution_count": 1,
   "metadata": {},
   "outputs": [
    {
     "ename": "error",
     "evalue": "OpenCV(4.7.0) d:\\a\\opencv-python\\opencv-python\\opencv\\modules\\imgproc\\src\\color.simd_helpers.hpp:92: error: (-2:Unspecified error) in function '__cdecl cv::impl::`anonymous-namespace'::CvtHelper<struct cv::impl::`anonymous namespace'::Set<3,4,-1>,struct cv::impl::A0x981fb336::Set<1,-1,-1>,struct cv::impl::A0x981fb336::Set<0,2,5>,2>::CvtHelper(const class cv::_InputArray &,const class cv::_OutputArray &,int)'\n> Invalid number of channels in input image:\n>     'VScn::contains(scn)'\n> where\n>     'scn' is 1\n",
     "output_type": "error",
     "traceback": [
      "\u001b[1;31m---------------------------------------------------------------------------\u001b[0m",
      "\u001b[1;31merror\u001b[0m                                     Traceback (most recent call last)",
      "\u001b[1;32m~\\AppData\\Local\\Temp\\ipykernel_1476\\1041340565.py\u001b[0m in \u001b[0;36m<module>\u001b[1;34m\u001b[0m\n\u001b[0;32m     31\u001b[0m \u001b[1;33m\u001b[0m\u001b[0m\n\u001b[0;32m     32\u001b[0m \u001b[0moriginal_MRI_image\u001b[0m \u001b[1;33m=\u001b[0m \u001b[0mcv2\u001b[0m\u001b[1;33m.\u001b[0m\u001b[0mimread\u001b[0m\u001b[1;33m(\u001b[0m\u001b[1;34m\"mri_original.jpg\"\u001b[0m\u001b[1;33m,\u001b[0m \u001b[0mcv2\u001b[0m\u001b[1;33m.\u001b[0m\u001b[0mIMREAD_GRAYSCALE\u001b[0m\u001b[1;33m)\u001b[0m\u001b[1;33m\u001b[0m\u001b[1;33m\u001b[0m\u001b[0m\n\u001b[1;32m---> 33\u001b[1;33m \u001b[0mgrayscale_MRI_image\u001b[0m \u001b[1;33m=\u001b[0m \u001b[0mcv2\u001b[0m\u001b[1;33m.\u001b[0m\u001b[0mcvtColor\u001b[0m\u001b[1;33m(\u001b[0m\u001b[0moriginal_MRI_image\u001b[0m\u001b[1;33m,\u001b[0m \u001b[0mcv2\u001b[0m\u001b[1;33m.\u001b[0m\u001b[0mCOLOR_BGR2GRAY\u001b[0m\u001b[1;33m)\u001b[0m\u001b[1;33m\u001b[0m\u001b[1;33m\u001b[0m\u001b[0m\n\u001b[0m\u001b[0;32m     34\u001b[0m \u001b[0minverted_grayscale_MRI_image\u001b[0m \u001b[1;33m=\u001b[0m \u001b[0mcv2\u001b[0m\u001b[1;33m.\u001b[0m\u001b[0mbitwise_not\u001b[0m\u001b[1;33m(\u001b[0m\u001b[0mgrayscale_MRI_image\u001b[0m\u001b[1;33m)\u001b[0m\u001b[1;33m\u001b[0m\u001b[1;33m\u001b[0m\u001b[0m\n\u001b[0;32m     35\u001b[0m \u001b[1;33m\u001b[0m\u001b[0m\n",
      "\u001b[1;31merror\u001b[0m: OpenCV(4.7.0) d:\\a\\opencv-python\\opencv-python\\opencv\\modules\\imgproc\\src\\color.simd_helpers.hpp:92: error: (-2:Unspecified error) in function '__cdecl cv::impl::`anonymous-namespace'::CvtHelper<struct cv::impl::`anonymous namespace'::Set<3,4,-1>,struct cv::impl::A0x981fb336::Set<1,-1,-1>,struct cv::impl::A0x981fb336::Set<0,2,5>,2>::CvtHelper(const class cv::_InputArray &,const class cv::_OutputArray &,int)'\n> Invalid number of channels in input image:\n>     'VScn::contains(scn)'\n> where\n>     'scn' is 1\n"
     ]
    }
   ],
   "source": [
    "import cv2\n",
    "import matplotlib.pyplot as plt\n",
    "import numpy as np\n",
    "\n",
    "def compare_MRI_images(original_image, grayscale_image, inverted_grayscale_image):\n",
    "  \"\"\"Compares an MRI image using matplotlib's grid view, with the original image, grayscale, and inverted grayscale.\n",
    "\n",
    "  Args:\n",
    "    original_image: The original MRI image in NumPy array format.\n",
    "    grayscale_image: The grayscale MRI image in NumPy array format.\n",
    "    inverted_grayscale_image: The inverted grayscale MRI image in NumPy array format.\n",
    "  \"\"\"\n",
    "\n",
    "  fig, axs = plt.subplots(1, 3, figsize=(10, 10))\n",
    "\n",
    "  axs[0].imshow(original_image, cmap=\"gray\")\n",
    "  axs[0].set_title(\"Original\")\n",
    "\n",
    "  axs[1].imshow(grayscale_image, cmap=\"gray\")\n",
    "  axs[1].set_title(\"Grayscale\")\n",
    "\n",
    "  axs[2].imshow(inverted_grayscale_image, cmap=\"gray\")\n",
    "  axs[2].set_title(\"Inverted Grayscale\")\n",
    "\n",
    "  for ax in axs:\n",
    "    ax.set_xlabel(\"X\")\n",
    "    ax.set_ylabel(\"Y\")\n",
    "    \n",
    "  fig.tight_layout()\n",
    "  plt.show()\n",
    "  \n",
    "original_MRI_image = cv2.imread(\"mri_original.jpg\", cv2.IMREAD_GRAYSCALE)\n",
    "#grayscale_MRI_image = cv2.cvtColor(original_MRI_image, cv2.COLOR_BGR2GRAY)\n",
    "inverted_grayscale_MRI_image = cv2.bitwise_not(grayscale_MRI_image)\n",
    "\n",
    "compare_MRI_images(original_MRI_image, grayscale_MRI_image, inverted_grayscale_MRI_image)"
   ]
  }
 ],
 "metadata": {
  "kernelspec": {
   "display_name": "Python 3",
   "language": "python",
   "name": "python3"
  },
  "language_info": {
   "codemirror_mode": {
    "name": "ipython",
    "version": 3
   },
   "file_extension": ".py",
   "mimetype": "text/x-python",
   "name": "python",
   "nbconvert_exporter": "python",
   "pygments_lexer": "ipython3",
   "version": "3.7.9"
  }
 },
 "nbformat": 4,
 "nbformat_minor": 2
}
